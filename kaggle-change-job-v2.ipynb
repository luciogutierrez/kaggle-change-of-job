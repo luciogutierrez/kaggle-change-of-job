{
 "cells": [
  {
   "cell_type": "code",
   "execution_count": 1,
   "source": [
    "import numpy as np\r\n",
    "import pandas as pd\r\n",
    "import seaborn as sns\r\n",
    "import matplotlib.pyplot as plt\r\n",
    "pd.options.mode.chained_assignment = None"
   ],
   "outputs": [],
   "metadata": {}
  },
  {
   "cell_type": "markdown",
   "source": [
    "# Extraction"
   ],
   "metadata": {}
  },
  {
   "cell_type": "code",
   "execution_count": 2,
   "source": [
    "df_train = pd.read_csv('./datasets/z_train.csv')\r\n",
    "df_pred = pd.read_csv('./datasets/z_test.csv')"
   ],
   "outputs": [],
   "metadata": {}
  },
  {
   "cell_type": "markdown",
   "source": [
    "# Analysis"
   ],
   "metadata": {}
  },
  {
   "cell_type": "code",
   "execution_count": 3,
   "source": [
    "def analysis_df(df):\r\n",
    "    df = df.copy()\r\n",
    "    print(df.info())\r\n",
    "    print('-------------------------------------')\r\n",
    "    print(df.isna().sum())\r\n",
    "    print('-------------------------------------')\r\n",
    "    print(df.shape)\r\n",
    "    print('-------------------------------------')\r\n",
    "    "
   ],
   "outputs": [],
   "metadata": {}
  },
  {
   "cell_type": "code",
   "execution_count": 4,
   "source": [
    "# analizamos el set de entranamiento\r\n",
    "analysis_df(df_train)"
   ],
   "outputs": [
    {
     "output_type": "stream",
     "name": "stdout",
     "text": [
      "<class 'pandas.core.frame.DataFrame'>\n",
      "RangeIndex: 15326 entries, 0 to 15325\n",
      "Data columns (total 14 columns):\n",
      " #   Column                  Non-Null Count  Dtype  \n",
      "---  ------                  --------------  -----  \n",
      " 0   enrollee_id             15326 non-null  int64  \n",
      " 1   city                    15326 non-null  object \n",
      " 2   city_development_index  15326 non-null  float64\n",
      " 3   gender                  11725 non-null  object \n",
      " 4   relevent_experience     15326 non-null  object \n",
      " 5   enrolled_university     15024 non-null  object \n",
      " 6   education_level         14957 non-null  object \n",
      " 7   major_discipline        13089 non-null  object \n",
      " 8   experience              15276 non-null  object \n",
      " 9   company_size            10592 non-null  object \n",
      " 10  company_type            10435 non-null  object \n",
      " 11  last_new_job            14987 non-null  object \n",
      " 12  training_hours          15326 non-null  int64  \n",
      " 13  target                  15326 non-null  float64\n",
      "dtypes: float64(2), int64(2), object(10)\n",
      "memory usage: 1.6+ MB\n",
      "None\n",
      "-------------------------------------\n",
      "enrollee_id                  0\n",
      "city                         0\n",
      "city_development_index       0\n",
      "gender                    3601\n",
      "relevent_experience          0\n",
      "enrolled_university        302\n",
      "education_level            369\n",
      "major_discipline          2237\n",
      "experience                  50\n",
      "company_size              4734\n",
      "company_type              4891\n",
      "last_new_job               339\n",
      "training_hours               0\n",
      "target                       0\n",
      "dtype: int64\n",
      "-------------------------------------\n",
      "(15326, 14)\n",
      "-------------------------------------\n"
     ]
    }
   ],
   "metadata": {}
  },
  {
   "cell_type": "code",
   "execution_count": 5,
   "source": [
    "# analizamos el set de predicción\r\n",
    "analysis_df(df_pred)"
   ],
   "outputs": [
    {
     "output_type": "stream",
     "name": "stdout",
     "text": [
      "<class 'pandas.core.frame.DataFrame'>\n",
      "RangeIndex: 3832 entries, 0 to 3831\n",
      "Data columns (total 13 columns):\n",
      " #   Column                  Non-Null Count  Dtype  \n",
      "---  ------                  --------------  -----  \n",
      " 0   enrollee_id             3832 non-null   int64  \n",
      " 1   city                    3832 non-null   object \n",
      " 2   city_development_index  3832 non-null   float64\n",
      " 3   gender                  2925 non-null   object \n",
      " 4   relevent_experience     3832 non-null   object \n",
      " 5   enrolled_university     3748 non-null   object \n",
      " 6   education_level         3741 non-null   object \n",
      " 7   major_discipline        3256 non-null   object \n",
      " 8   experience              3817 non-null   object \n",
      " 9   company_size            2628 non-null   object \n",
      " 10  company_type            2583 non-null   object \n",
      " 11  last_new_job            3748 non-null   object \n",
      " 12  training_hours          3832 non-null   int64  \n",
      "dtypes: float64(1), int64(2), object(10)\n",
      "memory usage: 389.3+ KB\n",
      "None\n",
      "-------------------------------------\n",
      "enrollee_id                  0\n",
      "city                         0\n",
      "city_development_index       0\n",
      "gender                     907\n",
      "relevent_experience          0\n",
      "enrolled_university         84\n",
      "education_level             91\n",
      "major_discipline           576\n",
      "experience                  15\n",
      "company_size              1204\n",
      "company_type              1249\n",
      "last_new_job                84\n",
      "training_hours               0\n",
      "dtype: int64\n",
      "-------------------------------------\n",
      "(3832, 13)\n",
      "-------------------------------------\n"
     ]
    }
   ],
   "metadata": {}
  },
  {
   "cell_type": "markdown",
   "source": [
    "# Transformacion"
   ],
   "metadata": {}
  },
  {
   "cell_type": "code",
   "execution_count": 6,
   "source": [
    "def transform_df(df):\r\n",
    "    df = df.copy()\r\n",
    "    df.dropna(inplace=True)\r\n",
    "    df.enrolled_university = df.enrolled_university.fillna('no_enrollment')\r\n",
    "    df.education_level = df.education_level.fillna('undefinded')\r\n",
    "    df.last_new_job = df.last_new_job.fillna('undefinded')\r\n",
    "    df.dropna(subset=['experience'], inplace=True)\r\n",
    "    return df\r\n",
    "    "
   ],
   "outputs": [],
   "metadata": {}
  },
  {
   "cell_type": "markdown",
   "source": [
    "# Carga set de entranamiento"
   ],
   "metadata": {}
  },
  {
   "cell_type": "code",
   "execution_count": 7,
   "source": [
    "df_t1 = transform_df(df_train)\r\n",
    "df_t1.head(3)"
   ],
   "outputs": [
    {
     "output_type": "execute_result",
     "data": {
      "text/plain": [
       "   enrollee_id      city  city_development_index gender  \\\n",
       "1        29725   city_40                   0.776   Male   \n",
       "6          402   city_46                   0.762   Male   \n",
       "7        27107  city_103                   0.920   Male   \n",
       "\n",
       "       relevent_experience enrolled_university education_level  \\\n",
       "1   No relevent experience       no_enrollment        Graduate   \n",
       "6  Has relevent experience       no_enrollment        Graduate   \n",
       "7  Has relevent experience       no_enrollment        Graduate   \n",
       "\n",
       "  major_discipline experience company_size company_type last_new_job  \\\n",
       "1             STEM         15        50-99      Pvt Ltd           >4   \n",
       "6             STEM         13          <10      Pvt Ltd           >4   \n",
       "7             STEM          7        50-99      Pvt Ltd            1   \n",
       "\n",
       "   training_hours  target  \n",
       "1              47     0.0  \n",
       "6              18     1.0  \n",
       "7              46     1.0  "
      ],
      "text/html": [
       "<div>\n",
       "<style scoped>\n",
       "    .dataframe tbody tr th:only-of-type {\n",
       "        vertical-align: middle;\n",
       "    }\n",
       "\n",
       "    .dataframe tbody tr th {\n",
       "        vertical-align: top;\n",
       "    }\n",
       "\n",
       "    .dataframe thead th {\n",
       "        text-align: right;\n",
       "    }\n",
       "</style>\n",
       "<table border=\"1\" class=\"dataframe\">\n",
       "  <thead>\n",
       "    <tr style=\"text-align: right;\">\n",
       "      <th></th>\n",
       "      <th>enrollee_id</th>\n",
       "      <th>city</th>\n",
       "      <th>city_development_index</th>\n",
       "      <th>gender</th>\n",
       "      <th>relevent_experience</th>\n",
       "      <th>enrolled_university</th>\n",
       "      <th>education_level</th>\n",
       "      <th>major_discipline</th>\n",
       "      <th>experience</th>\n",
       "      <th>company_size</th>\n",
       "      <th>company_type</th>\n",
       "      <th>last_new_job</th>\n",
       "      <th>training_hours</th>\n",
       "      <th>target</th>\n",
       "    </tr>\n",
       "  </thead>\n",
       "  <tbody>\n",
       "    <tr>\n",
       "      <th>1</th>\n",
       "      <td>29725</td>\n",
       "      <td>city_40</td>\n",
       "      <td>0.776</td>\n",
       "      <td>Male</td>\n",
       "      <td>No relevent experience</td>\n",
       "      <td>no_enrollment</td>\n",
       "      <td>Graduate</td>\n",
       "      <td>STEM</td>\n",
       "      <td>15</td>\n",
       "      <td>50-99</td>\n",
       "      <td>Pvt Ltd</td>\n",
       "      <td>&gt;4</td>\n",
       "      <td>47</td>\n",
       "      <td>0.0</td>\n",
       "    </tr>\n",
       "    <tr>\n",
       "      <th>6</th>\n",
       "      <td>402</td>\n",
       "      <td>city_46</td>\n",
       "      <td>0.762</td>\n",
       "      <td>Male</td>\n",
       "      <td>Has relevent experience</td>\n",
       "      <td>no_enrollment</td>\n",
       "      <td>Graduate</td>\n",
       "      <td>STEM</td>\n",
       "      <td>13</td>\n",
       "      <td>&lt;10</td>\n",
       "      <td>Pvt Ltd</td>\n",
       "      <td>&gt;4</td>\n",
       "      <td>18</td>\n",
       "      <td>1.0</td>\n",
       "    </tr>\n",
       "    <tr>\n",
       "      <th>7</th>\n",
       "      <td>27107</td>\n",
       "      <td>city_103</td>\n",
       "      <td>0.920</td>\n",
       "      <td>Male</td>\n",
       "      <td>Has relevent experience</td>\n",
       "      <td>no_enrollment</td>\n",
       "      <td>Graduate</td>\n",
       "      <td>STEM</td>\n",
       "      <td>7</td>\n",
       "      <td>50-99</td>\n",
       "      <td>Pvt Ltd</td>\n",
       "      <td>1</td>\n",
       "      <td>46</td>\n",
       "      <td>1.0</td>\n",
       "    </tr>\n",
       "  </tbody>\n",
       "</table>\n",
       "</div>"
      ]
     },
     "metadata": {},
     "execution_count": 7
    }
   ],
   "metadata": {}
  },
  {
   "cell_type": "code",
   "execution_count": 8,
   "source": [
    "# filtramos las variables relevantes para el modelo\r\n",
    "df_t2 = df_t1[['enrollee_id','gender','city_development_index','relevent_experience','enrolled_university','education_level','last_new_job','training_hours','target']]\r\n",
    "df_t2.head()"
   ],
   "outputs": [
    {
     "output_type": "execute_result",
     "data": {
      "text/plain": [
       "    enrollee_id gender  city_development_index      relevent_experience  \\\n",
       "1         29725   Male                   0.776   No relevent experience   \n",
       "6           402   Male                   0.762  Has relevent experience   \n",
       "7         27107   Male                   0.920  Has relevent experience   \n",
       "10        23853   Male                   0.920  Has relevent experience   \n",
       "11        25619   Male                   0.913  Has relevent experience   \n",
       "\n",
       "   enrolled_university education_level last_new_job  training_hours  target  \n",
       "1        no_enrollment        Graduate           >4              47     0.0  \n",
       "6        no_enrollment        Graduate           >4              18     1.0  \n",
       "7        no_enrollment        Graduate            1              46     1.0  \n",
       "10       no_enrollment        Graduate            1             108     0.0  \n",
       "11       no_enrollment        Graduate            3              23     0.0  "
      ],
      "text/html": [
       "<div>\n",
       "<style scoped>\n",
       "    .dataframe tbody tr th:only-of-type {\n",
       "        vertical-align: middle;\n",
       "    }\n",
       "\n",
       "    .dataframe tbody tr th {\n",
       "        vertical-align: top;\n",
       "    }\n",
       "\n",
       "    .dataframe thead th {\n",
       "        text-align: right;\n",
       "    }\n",
       "</style>\n",
       "<table border=\"1\" class=\"dataframe\">\n",
       "  <thead>\n",
       "    <tr style=\"text-align: right;\">\n",
       "      <th></th>\n",
       "      <th>enrollee_id</th>\n",
       "      <th>gender</th>\n",
       "      <th>city_development_index</th>\n",
       "      <th>relevent_experience</th>\n",
       "      <th>enrolled_university</th>\n",
       "      <th>education_level</th>\n",
       "      <th>last_new_job</th>\n",
       "      <th>training_hours</th>\n",
       "      <th>target</th>\n",
       "    </tr>\n",
       "  </thead>\n",
       "  <tbody>\n",
       "    <tr>\n",
       "      <th>1</th>\n",
       "      <td>29725</td>\n",
       "      <td>Male</td>\n",
       "      <td>0.776</td>\n",
       "      <td>No relevent experience</td>\n",
       "      <td>no_enrollment</td>\n",
       "      <td>Graduate</td>\n",
       "      <td>&gt;4</td>\n",
       "      <td>47</td>\n",
       "      <td>0.0</td>\n",
       "    </tr>\n",
       "    <tr>\n",
       "      <th>6</th>\n",
       "      <td>402</td>\n",
       "      <td>Male</td>\n",
       "      <td>0.762</td>\n",
       "      <td>Has relevent experience</td>\n",
       "      <td>no_enrollment</td>\n",
       "      <td>Graduate</td>\n",
       "      <td>&gt;4</td>\n",
       "      <td>18</td>\n",
       "      <td>1.0</td>\n",
       "    </tr>\n",
       "    <tr>\n",
       "      <th>7</th>\n",
       "      <td>27107</td>\n",
       "      <td>Male</td>\n",
       "      <td>0.920</td>\n",
       "      <td>Has relevent experience</td>\n",
       "      <td>no_enrollment</td>\n",
       "      <td>Graduate</td>\n",
       "      <td>1</td>\n",
       "      <td>46</td>\n",
       "      <td>1.0</td>\n",
       "    </tr>\n",
       "    <tr>\n",
       "      <th>10</th>\n",
       "      <td>23853</td>\n",
       "      <td>Male</td>\n",
       "      <td>0.920</td>\n",
       "      <td>Has relevent experience</td>\n",
       "      <td>no_enrollment</td>\n",
       "      <td>Graduate</td>\n",
       "      <td>1</td>\n",
       "      <td>108</td>\n",
       "      <td>0.0</td>\n",
       "    </tr>\n",
       "    <tr>\n",
       "      <th>11</th>\n",
       "      <td>25619</td>\n",
       "      <td>Male</td>\n",
       "      <td>0.913</td>\n",
       "      <td>Has relevent experience</td>\n",
       "      <td>no_enrollment</td>\n",
       "      <td>Graduate</td>\n",
       "      <td>3</td>\n",
       "      <td>23</td>\n",
       "      <td>0.0</td>\n",
       "    </tr>\n",
       "  </tbody>\n",
       "</table>\n",
       "</div>"
      ]
     },
     "metadata": {},
     "execution_count": 8
    }
   ],
   "metadata": {}
  },
  {
   "cell_type": "code",
   "execution_count": 9,
   "source": [
    "df_t2_dummy = pd.get_dummies(data=df_t2, columns=['gender','relevent_experience','enrolled_university','education_level','last_new_job'])\r\n",
    "df_t2_dummy.info() "
   ],
   "outputs": [
    {
     "output_type": "stream",
     "name": "stdout",
     "text": [
      "<class 'pandas.core.frame.DataFrame'>\n",
      "Int64Index: 7182 entries, 1 to 15323\n",
      "Data columns (total 21 columns):\n",
      " #   Column                                       Non-Null Count  Dtype  \n",
      "---  ------                                       --------------  -----  \n",
      " 0   enrollee_id                                  7182 non-null   int64  \n",
      " 1   city_development_index                       7182 non-null   float64\n",
      " 2   training_hours                               7182 non-null   int64  \n",
      " 3   target                                       7182 non-null   float64\n",
      " 4   gender_Female                                7182 non-null   uint8  \n",
      " 5   gender_Male                                  7182 non-null   uint8  \n",
      " 6   gender_Other                                 7182 non-null   uint8  \n",
      " 7   relevent_experience_Has relevent experience  7182 non-null   uint8  \n",
      " 8   relevent_experience_No relevent experience   7182 non-null   uint8  \n",
      " 9   enrolled_university_Full time course         7182 non-null   uint8  \n",
      " 10  enrolled_university_Part time course         7182 non-null   uint8  \n",
      " 11  enrolled_university_no_enrollment            7182 non-null   uint8  \n",
      " 12  education_level_Graduate                     7182 non-null   uint8  \n",
      " 13  education_level_Masters                      7182 non-null   uint8  \n",
      " 14  education_level_Phd                          7182 non-null   uint8  \n",
      " 15  last_new_job_1                               7182 non-null   uint8  \n",
      " 16  last_new_job_2                               7182 non-null   uint8  \n",
      " 17  last_new_job_3                               7182 non-null   uint8  \n",
      " 18  last_new_job_4                               7182 non-null   uint8  \n",
      " 19  last_new_job_>4                              7182 non-null   uint8  \n",
      " 20  last_new_job_never                           7182 non-null   uint8  \n",
      "dtypes: float64(2), int64(2), uint8(17)\n",
      "memory usage: 399.8 KB\n"
     ]
    }
   ],
   "metadata": {}
  },
  {
   "cell_type": "code",
   "execution_count": 10,
   "source": [
    "# Generamos los sets a entrenar\r\n",
    "X = df_t2_dummy.drop(['enrollee_id','target'], axis=1).to_numpy()\r\n",
    "y = df_t2_dummy.target.to_numpy()"
   ],
   "outputs": [],
   "metadata": {}
  },
  {
   "cell_type": "code",
   "execution_count": 11,
   "source": [
    "# generamos los sets de entreamiento y test\r\n",
    "from sklearn.model_selection import train_test_split\r\n",
    "X_train, X_test, y_train, y_test = train_test_split(X, y, test_size=0.2)"
   ],
   "outputs": [],
   "metadata": {}
  },
  {
   "cell_type": "markdown",
   "source": [
    "## Modelo de Regresión Logistica"
   ],
   "metadata": {}
  },
  {
   "cell_type": "code",
   "execution_count": 12,
   "source": [
    "# imports\r\n",
    "from sklearn.linear_model import LogisticRegression\r\n",
    "from sklearn.metrics import confusion_matrix"
   ],
   "outputs": [],
   "metadata": {}
  },
  {
   "cell_type": "code",
   "execution_count": 13,
   "source": [
    "# Logististic Regression con el set completo de datos\r\n",
    "logreg = LogisticRegression(solver='lbfgs', max_iter=1000)\r\n",
    "logreg.fit(X, y)\r\n",
    "logreg.score(X, y)"
   ],
   "outputs": [
    {
     "output_type": "execute_result",
     "data": {
      "text/plain": [
       "0.8430799220272904"
      ]
     },
     "metadata": {},
     "execution_count": 13
    }
   ],
   "metadata": {}
  },
  {
   "cell_type": "code",
   "execution_count": 14,
   "source": [
    "# Logististic Regression con el set de entrenamiento\r\n",
    "logreg = LogisticRegression(solver='lbfgs', max_iter=1000)\r\n",
    "logreg.fit(X_train, y_train)\r\n",
    "logreg.score(X_train, y_train)"
   ],
   "outputs": [
    {
     "output_type": "execute_result",
     "data": {
      "text/plain": [
       "0.842993907745866"
      ]
     },
     "metadata": {},
     "execution_count": 14
    }
   ],
   "metadata": {}
  },
  {
   "cell_type": "code",
   "execution_count": 15,
   "source": [
    "# Hacemos las predicciones\r\n",
    "y_test_pred = logreg.predict(X_test)\r\n",
    "confusion_matrix(y_test, y_test_pred)"
   ],
   "outputs": [
    {
     "output_type": "execute_result",
     "data": {
      "text/plain": [
       "array([[1175,   34],\n",
       "       [ 188,   40]], dtype=int64)"
      ]
     },
     "metadata": {},
     "execution_count": 15
    }
   ],
   "metadata": {}
  },
  {
   "cell_type": "markdown",
   "source": [
    "# Carga set de predicción"
   ],
   "metadata": {}
  },
  {
   "cell_type": "code",
   "execution_count": 16,
   "source": [
    "df_p1 = df_pred\r\n",
    "df_p1.head(3)"
   ],
   "outputs": [
    {
     "output_type": "execute_result",
     "data": {
      "text/plain": [
       "   enrollee_id      city  city_development_index gender  \\\n",
       "0        23603  city_160                   0.920   Male   \n",
       "1        22499   city_45                   0.890    NaN   \n",
       "2        10465  city_149                   0.689   Male   \n",
       "\n",
       "       relevent_experience enrolled_university education_level  \\\n",
       "0   No relevent experience    Full time course        Graduate   \n",
       "1  Has relevent experience    Full time course     High School   \n",
       "2   No relevent experience       no_enrollment        Graduate   \n",
       "\n",
       "  major_discipline experience company_size company_type last_new_job  \\\n",
       "0             STEM          5          NaN          NaN            1   \n",
       "1              NaN          6        50-99      Pvt Ltd            1   \n",
       "2             STEM          5          NaN          NaN        never   \n",
       "\n",
       "   training_hours  \n",
       "0              78  \n",
       "1              36  \n",
       "2              34  "
      ],
      "text/html": [
       "<div>\n",
       "<style scoped>\n",
       "    .dataframe tbody tr th:only-of-type {\n",
       "        vertical-align: middle;\n",
       "    }\n",
       "\n",
       "    .dataframe tbody tr th {\n",
       "        vertical-align: top;\n",
       "    }\n",
       "\n",
       "    .dataframe thead th {\n",
       "        text-align: right;\n",
       "    }\n",
       "</style>\n",
       "<table border=\"1\" class=\"dataframe\">\n",
       "  <thead>\n",
       "    <tr style=\"text-align: right;\">\n",
       "      <th></th>\n",
       "      <th>enrollee_id</th>\n",
       "      <th>city</th>\n",
       "      <th>city_development_index</th>\n",
       "      <th>gender</th>\n",
       "      <th>relevent_experience</th>\n",
       "      <th>enrolled_university</th>\n",
       "      <th>education_level</th>\n",
       "      <th>major_discipline</th>\n",
       "      <th>experience</th>\n",
       "      <th>company_size</th>\n",
       "      <th>company_type</th>\n",
       "      <th>last_new_job</th>\n",
       "      <th>training_hours</th>\n",
       "    </tr>\n",
       "  </thead>\n",
       "  <tbody>\n",
       "    <tr>\n",
       "      <th>0</th>\n",
       "      <td>23603</td>\n",
       "      <td>city_160</td>\n",
       "      <td>0.920</td>\n",
       "      <td>Male</td>\n",
       "      <td>No relevent experience</td>\n",
       "      <td>Full time course</td>\n",
       "      <td>Graduate</td>\n",
       "      <td>STEM</td>\n",
       "      <td>5</td>\n",
       "      <td>NaN</td>\n",
       "      <td>NaN</td>\n",
       "      <td>1</td>\n",
       "      <td>78</td>\n",
       "    </tr>\n",
       "    <tr>\n",
       "      <th>1</th>\n",
       "      <td>22499</td>\n",
       "      <td>city_45</td>\n",
       "      <td>0.890</td>\n",
       "      <td>NaN</td>\n",
       "      <td>Has relevent experience</td>\n",
       "      <td>Full time course</td>\n",
       "      <td>High School</td>\n",
       "      <td>NaN</td>\n",
       "      <td>6</td>\n",
       "      <td>50-99</td>\n",
       "      <td>Pvt Ltd</td>\n",
       "      <td>1</td>\n",
       "      <td>36</td>\n",
       "    </tr>\n",
       "    <tr>\n",
       "      <th>2</th>\n",
       "      <td>10465</td>\n",
       "      <td>city_149</td>\n",
       "      <td>0.689</td>\n",
       "      <td>Male</td>\n",
       "      <td>No relevent experience</td>\n",
       "      <td>no_enrollment</td>\n",
       "      <td>Graduate</td>\n",
       "      <td>STEM</td>\n",
       "      <td>5</td>\n",
       "      <td>NaN</td>\n",
       "      <td>NaN</td>\n",
       "      <td>never</td>\n",
       "      <td>34</td>\n",
       "    </tr>\n",
       "  </tbody>\n",
       "</table>\n",
       "</div>"
      ]
     },
     "metadata": {},
     "execution_count": 16
    }
   ],
   "metadata": {}
  },
  {
   "cell_type": "code",
   "execution_count": 17,
   "source": [
    "# filtramos las variables relevantes para el modelo\r\n",
    "df_p2 = df_p1[['enrollee_id','gender','city_development_index','relevent_experience','enrolled_university','education_level','last_new_job','training_hours']]\r\n",
    "df_p2.head(3)"
   ],
   "outputs": [
    {
     "output_type": "execute_result",
     "data": {
      "text/plain": [
       "   enrollee_id gender  city_development_index      relevent_experience  \\\n",
       "0        23603   Male                   0.920   No relevent experience   \n",
       "1        22499    NaN                   0.890  Has relevent experience   \n",
       "2        10465   Male                   0.689   No relevent experience   \n",
       "\n",
       "  enrolled_university education_level last_new_job  training_hours  \n",
       "0    Full time course        Graduate            1              78  \n",
       "1    Full time course     High School            1              36  \n",
       "2       no_enrollment        Graduate        never              34  "
      ],
      "text/html": [
       "<div>\n",
       "<style scoped>\n",
       "    .dataframe tbody tr th:only-of-type {\n",
       "        vertical-align: middle;\n",
       "    }\n",
       "\n",
       "    .dataframe tbody tr th {\n",
       "        vertical-align: top;\n",
       "    }\n",
       "\n",
       "    .dataframe thead th {\n",
       "        text-align: right;\n",
       "    }\n",
       "</style>\n",
       "<table border=\"1\" class=\"dataframe\">\n",
       "  <thead>\n",
       "    <tr style=\"text-align: right;\">\n",
       "      <th></th>\n",
       "      <th>enrollee_id</th>\n",
       "      <th>gender</th>\n",
       "      <th>city_development_index</th>\n",
       "      <th>relevent_experience</th>\n",
       "      <th>enrolled_university</th>\n",
       "      <th>education_level</th>\n",
       "      <th>last_new_job</th>\n",
       "      <th>training_hours</th>\n",
       "    </tr>\n",
       "  </thead>\n",
       "  <tbody>\n",
       "    <tr>\n",
       "      <th>0</th>\n",
       "      <td>23603</td>\n",
       "      <td>Male</td>\n",
       "      <td>0.920</td>\n",
       "      <td>No relevent experience</td>\n",
       "      <td>Full time course</td>\n",
       "      <td>Graduate</td>\n",
       "      <td>1</td>\n",
       "      <td>78</td>\n",
       "    </tr>\n",
       "    <tr>\n",
       "      <th>1</th>\n",
       "      <td>22499</td>\n",
       "      <td>NaN</td>\n",
       "      <td>0.890</td>\n",
       "      <td>Has relevent experience</td>\n",
       "      <td>Full time course</td>\n",
       "      <td>High School</td>\n",
       "      <td>1</td>\n",
       "      <td>36</td>\n",
       "    </tr>\n",
       "    <tr>\n",
       "      <th>2</th>\n",
       "      <td>10465</td>\n",
       "      <td>Male</td>\n",
       "      <td>0.689</td>\n",
       "      <td>No relevent experience</td>\n",
       "      <td>no_enrollment</td>\n",
       "      <td>Graduate</td>\n",
       "      <td>never</td>\n",
       "      <td>34</td>\n",
       "    </tr>\n",
       "  </tbody>\n",
       "</table>\n",
       "</div>"
      ]
     },
     "metadata": {},
     "execution_count": 17
    }
   ],
   "metadata": {}
  },
  {
   "cell_type": "code",
   "execution_count": 18,
   "source": [
    "df_p2_dummy = pd.get_dummies(data=df_p2, columns=['gender','relevent_experience','enrolled_university','education_level','last_new_job'])\r\n",
    "df_p2_dummy.info() "
   ],
   "outputs": [
    {
     "output_type": "stream",
     "name": "stdout",
     "text": [
      "<class 'pandas.core.frame.DataFrame'>\n",
      "RangeIndex: 3832 entries, 0 to 3831\n",
      "Data columns (total 22 columns):\n",
      " #   Column                                       Non-Null Count  Dtype  \n",
      "---  ------                                       --------------  -----  \n",
      " 0   enrollee_id                                  3832 non-null   int64  \n",
      " 1   city_development_index                       3832 non-null   float64\n",
      " 2   training_hours                               3832 non-null   int64  \n",
      " 3   gender_Female                                3832 non-null   uint8  \n",
      " 4   gender_Male                                  3832 non-null   uint8  \n",
      " 5   gender_Other                                 3832 non-null   uint8  \n",
      " 6   relevent_experience_Has relevent experience  3832 non-null   uint8  \n",
      " 7   relevent_experience_No relevent experience   3832 non-null   uint8  \n",
      " 8   enrolled_university_Full time course         3832 non-null   uint8  \n",
      " 9   enrolled_university_Part time course         3832 non-null   uint8  \n",
      " 10  enrolled_university_no_enrollment            3832 non-null   uint8  \n",
      " 11  education_level_Graduate                     3832 non-null   uint8  \n",
      " 12  education_level_High School                  3832 non-null   uint8  \n",
      " 13  education_level_Masters                      3832 non-null   uint8  \n",
      " 14  education_level_Phd                          3832 non-null   uint8  \n",
      " 15  education_level_Primary School               3832 non-null   uint8  \n",
      " 16  last_new_job_1                               3832 non-null   uint8  \n",
      " 17  last_new_job_2                               3832 non-null   uint8  \n",
      " 18  last_new_job_3                               3832 non-null   uint8  \n",
      " 19  last_new_job_4                               3832 non-null   uint8  \n",
      " 20  last_new_job_>4                              3832 non-null   uint8  \n",
      " 21  last_new_job_never                           3832 non-null   uint8  \n",
      "dtypes: float64(1), int64(2), uint8(19)\n",
      "memory usage: 161.0 KB\n"
     ]
    }
   ],
   "metadata": {}
  },
  {
   "cell_type": "code",
   "execution_count": 19,
   "source": [
    "# filtramos las columnas que existen en el set de predicción pero no en el de entrenamiento\r\n",
    "cols = df_p2_dummy.columns.values.tolist()\r\n",
    "cols_to_drop = ['education_level_High School','education_level_Primary School']\r\n",
    "cols_select = [col for col in df_p2_dummy if col not in cols_to_drop]\r\n",
    "df_p3 = df_p2_dummy[cols_select]\r\n",
    "df_p3.info()"
   ],
   "outputs": [
    {
     "output_type": "stream",
     "name": "stdout",
     "text": [
      "<class 'pandas.core.frame.DataFrame'>\n",
      "RangeIndex: 3832 entries, 0 to 3831\n",
      "Data columns (total 20 columns):\n",
      " #   Column                                       Non-Null Count  Dtype  \n",
      "---  ------                                       --------------  -----  \n",
      " 0   enrollee_id                                  3832 non-null   int64  \n",
      " 1   city_development_index                       3832 non-null   float64\n",
      " 2   training_hours                               3832 non-null   int64  \n",
      " 3   gender_Female                                3832 non-null   uint8  \n",
      " 4   gender_Male                                  3832 non-null   uint8  \n",
      " 5   gender_Other                                 3832 non-null   uint8  \n",
      " 6   relevent_experience_Has relevent experience  3832 non-null   uint8  \n",
      " 7   relevent_experience_No relevent experience   3832 non-null   uint8  \n",
      " 8   enrolled_university_Full time course         3832 non-null   uint8  \n",
      " 9   enrolled_university_Part time course         3832 non-null   uint8  \n",
      " 10  enrolled_university_no_enrollment            3832 non-null   uint8  \n",
      " 11  education_level_Graduate                     3832 non-null   uint8  \n",
      " 12  education_level_Masters                      3832 non-null   uint8  \n",
      " 13  education_level_Phd                          3832 non-null   uint8  \n",
      " 14  last_new_job_1                               3832 non-null   uint8  \n",
      " 15  last_new_job_2                               3832 non-null   uint8  \n",
      " 16  last_new_job_3                               3832 non-null   uint8  \n",
      " 17  last_new_job_4                               3832 non-null   uint8  \n",
      " 18  last_new_job_>4                              3832 non-null   uint8  \n",
      " 19  last_new_job_never                           3832 non-null   uint8  \n",
      "dtypes: float64(1), int64(2), uint8(17)\n",
      "memory usage: 153.6 KB\n"
     ]
    }
   ],
   "metadata": {}
  },
  {
   "cell_type": "code",
   "execution_count": 20,
   "source": [
    "# Generamos el set para predecir\r\n",
    "X_p = df_p3.drop(['enrollee_id'], axis=1).to_numpy()"
   ],
   "outputs": [],
   "metadata": {}
  },
  {
   "cell_type": "markdown",
   "source": [
    "## Modelo de Regresión Logistica"
   ],
   "metadata": {}
  },
  {
   "cell_type": "code",
   "execution_count": 21,
   "source": [
    "# Hacemos las predicciones con el dataset para submission\r\n",
    "target_predictions = logreg.predict(X_p)\r\n",
    "target_predictions"
   ],
   "outputs": [
    {
     "output_type": "execute_result",
     "data": {
      "text/plain": [
       "array([0., 0., 0., ..., 0., 0., 0.])"
      ]
     },
     "metadata": {},
     "execution_count": 21
    }
   ],
   "metadata": {}
  },
  {
   "cell_type": "code",
   "execution_count": 22,
   "source": [
    "# Agregamos las etiquetas de predicción al df\r\n",
    "df_p1['target'] = target_predictions\r\n",
    "df_p1.target.unique()"
   ],
   "outputs": [
    {
     "output_type": "execute_result",
     "data": {
      "text/plain": [
       "array([0., 1.])"
      ]
     },
     "metadata": {},
     "execution_count": 22
    }
   ],
   "metadata": {}
  },
  {
   "cell_type": "code",
   "execution_count": 23,
   "source": [
    "df_submission = df_p1[['enrollee_id','target']]\r\n",
    "df_submission.head(10)"
   ],
   "outputs": [
    {
     "output_type": "execute_result",
     "data": {
      "text/plain": [
       "   enrollee_id  target\n",
       "0        23603     0.0\n",
       "1        22499     0.0\n",
       "2        10465     0.0\n",
       "3         8293     0.0\n",
       "4         4246     0.0\n",
       "5        29306     0.0\n",
       "6        23118     1.0\n",
       "7        32832     0.0\n",
       "8        13380     0.0\n",
       "9        16102     1.0"
      ],
      "text/html": [
       "<div>\n",
       "<style scoped>\n",
       "    .dataframe tbody tr th:only-of-type {\n",
       "        vertical-align: middle;\n",
       "    }\n",
       "\n",
       "    .dataframe tbody tr th {\n",
       "        vertical-align: top;\n",
       "    }\n",
       "\n",
       "    .dataframe thead th {\n",
       "        text-align: right;\n",
       "    }\n",
       "</style>\n",
       "<table border=\"1\" class=\"dataframe\">\n",
       "  <thead>\n",
       "    <tr style=\"text-align: right;\">\n",
       "      <th></th>\n",
       "      <th>enrollee_id</th>\n",
       "      <th>target</th>\n",
       "    </tr>\n",
       "  </thead>\n",
       "  <tbody>\n",
       "    <tr>\n",
       "      <th>0</th>\n",
       "      <td>23603</td>\n",
       "      <td>0.0</td>\n",
       "    </tr>\n",
       "    <tr>\n",
       "      <th>1</th>\n",
       "      <td>22499</td>\n",
       "      <td>0.0</td>\n",
       "    </tr>\n",
       "    <tr>\n",
       "      <th>2</th>\n",
       "      <td>10465</td>\n",
       "      <td>0.0</td>\n",
       "    </tr>\n",
       "    <tr>\n",
       "      <th>3</th>\n",
       "      <td>8293</td>\n",
       "      <td>0.0</td>\n",
       "    </tr>\n",
       "    <tr>\n",
       "      <th>4</th>\n",
       "      <td>4246</td>\n",
       "      <td>0.0</td>\n",
       "    </tr>\n",
       "    <tr>\n",
       "      <th>5</th>\n",
       "      <td>29306</td>\n",
       "      <td>0.0</td>\n",
       "    </tr>\n",
       "    <tr>\n",
       "      <th>6</th>\n",
       "      <td>23118</td>\n",
       "      <td>1.0</td>\n",
       "    </tr>\n",
       "    <tr>\n",
       "      <th>7</th>\n",
       "      <td>32832</td>\n",
       "      <td>0.0</td>\n",
       "    </tr>\n",
       "    <tr>\n",
       "      <th>8</th>\n",
       "      <td>13380</td>\n",
       "      <td>0.0</td>\n",
       "    </tr>\n",
       "    <tr>\n",
       "      <th>9</th>\n",
       "      <td>16102</td>\n",
       "      <td>1.0</td>\n",
       "    </tr>\n",
       "  </tbody>\n",
       "</table>\n",
       "</div>"
      ]
     },
     "metadata": {},
     "execution_count": 23
    }
   ],
   "metadata": {}
  },
  {
   "cell_type": "code",
   "execution_count": null,
   "source": [
    "df_submission.target.value_counts()"
   ],
   "outputs": [],
   "metadata": {}
  },
  {
   "cell_type": "code",
   "execution_count": 24,
   "source": [
    "df_submission.to_csv('./outputs/submission_22.csv', index=False)"
   ],
   "outputs": [],
   "metadata": {}
  },
  {
   "cell_type": "markdown",
   "source": [],
   "metadata": {}
  }
 ],
 "metadata": {
  "orig_nbformat": 4,
  "language_info": {
   "name": "python",
   "version": "3.9.6",
   "mimetype": "text/x-python",
   "codemirror_mode": {
    "name": "ipython",
    "version": 3
   },
   "pygments_lexer": "ipython3",
   "nbconvert_exporter": "python",
   "file_extension": ".py"
  },
  "kernelspec": {
   "name": "python3",
   "display_name": "Python 3.9.6 64-bit"
  },
  "interpreter": {
   "hash": "376f5b0795f81aa7b5d99e448d6274743a66c9892fd26cf11e505993f41df5fa"
  }
 },
 "nbformat": 4,
 "nbformat_minor": 2
}